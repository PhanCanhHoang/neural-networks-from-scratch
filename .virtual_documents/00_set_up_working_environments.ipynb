


jupyter nbconvert --to webpdf --allow-chromium-download 00_set_up_working_environments.ipynb




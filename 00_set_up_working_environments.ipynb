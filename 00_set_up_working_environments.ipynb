{
 "cells": [
  {
   "cell_type": "markdown",
   "metadata": {},
   "source": [
    "# 1. Install Jupyter\n",
    "\n",
    "## 1.1. Local\n",
    "\n",
    "- Install [Python](https://www.python.org/) in local machine.\n",
    "\n",
    "- Install Jupyter lab - the latest version of Jupyter notebooks with some additional functionalities.\n",
    "    \n",
    "    `pip install jupyterlab`\n",
    "\n",
    "- The following error might occur when running code locally in an Anaconda environment.\n",
    "\n",
    "    `ImportError: DLL load failed while importing _ssl: The specified module could not be found.`\n",
    "\n",
    "    Solution:\n",
    "    \n",
    "    Copy `libcrypto-1_1-x64.dll` and `libssl-1_1-x64.dll ` files from `C:\\ProgramData\\Anaconda3\\Library\\bin` to `C:\\ProgramData\\Anaconda3\\DLLs`.\n",
    "    \n",
    "- It is recommended to use Anaconda to manage your environment. Create a Jupyter kernel from the activated Anaconda environment.\n",
    "\n",
    "    `python -m ipykernel install --user --name nnfs`\n",
    "\n",
    "- Open Jupyter notebook by typing in terminal, Jupyter server is opened in a default web brower, select Kernel (env) to work in.\n",
    "\n",
    "    `jupyter notebook`\n",
    "\n",
    "- Open Jupyter lab by typing in terminal, Jupyter server is opened in a default web brower, select Kernel (env) to work in.\n",
    "\n",
    "    `jupyter lab`\n",
    "    \n",
    "    \n",
    "    \n",
    "## 1.2. Cloud\n",
    "\n",
    "Advantages:\n",
    "\n",
    "- The environment on cloud usually set up with a lot of data science packages aldready loaded.\n",
    "- Computing resources are available for free (GPU, TPU)\n",
    "\n",
    "### 1.2.1. Google Colab\n",
    "\n",
    "Go to [Google Colab](https://colab.research.google.com/) with an Google account.\n",
    "\n",
    "### 1.2.2. Kaggle Notebook\n",
    "\n",
    "Go to [Kaggle Notebook](https://www.kaggle.com/code) with an Kaggle account.\n",
    "\n"
   ]
  },
  {
   "cell_type": "code",
   "execution_count": null,
   "metadata": {},
   "outputs": [],
   "source": []
  }
 ],
 "metadata": {
  "kernelspec": {
   "display_name": "nnfs",
   "language": "python",
   "name": "nnfs"
  },
  "language_info": {
   "codemirror_mode": {
    "name": "ipython",
    "version": 3
   },
   "file_extension": ".py",
   "mimetype": "text/x-python",
   "name": "python",
   "nbconvert_exporter": "python",
   "pygments_lexer": "ipython3",
   "version": "3.10.13"
  }
 },
 "nbformat": 4,
 "nbformat_minor": 4
}

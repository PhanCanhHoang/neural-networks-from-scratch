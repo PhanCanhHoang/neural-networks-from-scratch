{
 "cells": [
  {
   "cell_type": "markdown",
   "metadata": {},
   "source": [
    "# Chapter 2: Coding Our First Neurons\n",
    "\n",
    "We firstly use pure-Python method, then we will use NumPy and Matplotlib for some visualizations.\n",
    "\n",
    "## 2.1. A Single Neuron\n",
    "\n",
    "<center><img src='./image/2-1.png' style='width: 60%'/></center>\n"
   ]
  },
  {
   "cell_type": "code",
   "execution_count": 1,
   "metadata": {},
   "outputs": [
    {
     "name": "stdout",
     "output_type": "stream",
     "text": [
      "2.3\n"
     ]
    }
   ],
   "source": [
    "# There are three inputs to a single neuron.\n",
    "inputs = [1 ,2 , 3]\n",
    "\n",
    "# Each input needs a weight associated with it. In most case, weights are initialized randomly.\n",
    "weights = [0.2, 0.8, - 0.5]\n",
    "\n",
    "# Each neuron has a bias associated with it. In most case, biases set as zero to start.\n",
    "bias = 2\n",
    "\n",
    "# The values for weights and biases are what get “trained” and they are what make a model work (or not work).\n",
    "output = (inputs[0] * weights[0] + inputs[1] * weights[1] + inputs[2] * weights[2] + bias)\n",
    "print(output)"
   ]
  },
  {
   "cell_type": "markdown",
   "metadata": {},
   "source": [
    "If we have four inputs for a single neuron:\n",
    "\n",
    "<center><img src='./image/2-2.png' style='width: 60%'/></center>"
   ]
  },
  {
   "cell_type": "code",
   "execution_count": 2,
   "metadata": {},
   "outputs": [
    {
     "name": "stdout",
     "output_type": "stream",
     "text": [
      "4.8\n"
     ]
    }
   ],
   "source": [
    "inputs = [1.0, 2.0, 3.0, 2.5]\n",
    "weights = [0.2, 0.8, - 0.5, 1.0]\n",
    "bias = 2.0\n",
    "output = (inputs[0] * weights[0] + inputs[1] * weights[1] + inputs[2] * weights[2] \n",
    "+ inputs[3] * weights[3] + bias)\n",
    "print(output)"
   ]
  },
  {
   "cell_type": "markdown",
   "metadata": {},
   "source": [
    "\n",
    "## 2.2. A Layer of Neurons\n",
    "\n",
    "A layer of neurons has more than one neuron.\n",
    "\n",
    "An example network with 04 inputs and 3 neurons:\n",
    "\n",
    "<center><img src='./image/2-3.png' style='width: 60%'/></center>\n",
    "\n",
    "There are three sets of weights and three biases, which define three neurons.\n",
    "\n",
    "In a fully connected NN, every neuron in the current layer has connections to every neuron from the previous layer."
   ]
  },
  {
   "cell_type": "code",
   "execution_count": 3,
   "metadata": {},
   "outputs": [
    {
     "name": "stdout",
     "output_type": "stream",
     "text": [
      "[4.8, 1.21, 2.385]\n"
     ]
    }
   ],
   "source": [
    "inputs = [1, 2, 3, 2.5]\n",
    "weights1 = [0.2, 0.8, -0.5, 1]\n",
    "weights2 = [0.5, -0.91, 0.26, -0.5]\n",
    "weights3 = [-0.26, -0.27, 0.17, 0.87]\n",
    "bias1 = 2\n",
    "bias2 = 3\n",
    "bias3 = 0.5\n",
    "outputs = [\n",
    "    # Neuron 1:\n",
    "    inputs[0] * weights1[0] + inputs[1] * weights1[1] +\n",
    "    inputs[2] * weights1[2] + inputs[3] * weights1[3] + bias1,\n",
    "    # Neuron 2:\n",
    "    inputs[0] * weights2[0] + inputs[1] * weights2[1] +\n",
    "    inputs[2] * weights2[2] + inputs[3] * weights2[3] + bias2,\n",
    "    # Neuron 3:\n",
    "    inputs[0] * weights3[0] + inputs[1] * weights3[1] +\n",
    "    inputs[2] * weights3[2] + inputs[3] * weights3[3] + bias3]\n",
    "print(outputs)\n"
   ]
  },
  {
   "cell_type": "markdown",
   "metadata": {},
   "source": [
    "In a deep NN with many more layers and neurons, it is very challenging to hardcode using the current methods. Instead, we use a loop to scale and handle dynamically sized inputs and layers.\n",
    "\n",
    "Python alone doesn’t do matrix/tensor/array math very efficiently.\n",
    "\n",
    "The most popular deep learning library in Python is “TensorFlow” that do all operations on tensors."
   ]
  },
  {
   "cell_type": "code",
   "execution_count": 4,
   "metadata": {},
   "outputs": [
    {
     "name": "stdout",
     "output_type": "stream",
     "text": [
      "[4.8, 1.21, 2.385]\n"
     ]
    }
   ],
   "source": [
    "inputs = [1, 2, 3, 2.5]\n",
    "weights = [[0.2, 0.8, -0.5, 1],\n",
    "           [0.5, -0.91, 0.26, -0.5],\n",
    "           [-0.26, -0.27, 0.17, 0.87]]\n",
    "biases = [2, 3, 0.5]\n",
    "\n",
    "# Output of current layer\n",
    "layer_outputs = []\n",
    "\n",
    "# For each neuron\n",
    "for neuron_weights, neuron_bias in zip (weights, biases):\n",
    "    \n",
    "    # Zeroed output of given neuron\n",
    "    neuron_output = 0\n",
    "    \n",
    "    # For each input and weight to the neuron\n",
    "    for n_input, weight in zip (inputs, neuron_weights):\n",
    "        # Multiply this input by associated weight\n",
    "        # and add to the neuron’s output variable\n",
    "        neuron_output += n_input * weight\n",
    "    \n",
    "    # Add bias\n",
    "    neuron_output += neuron_bias\n",
    "    \n",
    "    # Put neuron’s result to the layer’s output list\n",
    "    layer_outputs.append(neuron_output)\n",
    "\n",
    "print(layer_outputs)\n"
   ]
  },
  {
   "cell_type": "markdown",
   "metadata": {
    "tags": []
   },
   "source": [
    "## 2.3. Tensors, Arrays and Vectors\n",
    "\n",
    "### 2.3.1. What are “tensors”?\n",
    "\n",
    "Tensors are closely related to arrays.\n",
    "\n",
    "To understand a tensor, let’s compare and describe some of the other data containers in Python.\n",
    "\n",
    "#### A Python list\n",
    "\n",
    "A Python list is a comma-separated object contained in brackets.\n",
    "\n",
    "    A = [1, 3, 4, 6]            is a list.\n",
    "    \n",
    "    B = [[1, 2, 3, 5],\n",
    "        [5, 8, 9, 3]]           is a list of lists.\n",
    "    \n",
    "    C = [[[ 1 , 5 , 6 , 2 ],\n",
    "          [ 3 , 2 , 1 , 3 ]],\n",
    "         [[ 5 , 2 , 1 , 2 ],\n",
    "          [ 6 , 4 , 8 , 4 ]],\n",
    "         [[ 2 , 8 , 5 , 3 ],\n",
    "          [ 1 , 1 , 9 , 4 ]]]\tis a list of lists of lists.\n",
    "\n",
    "A, B, C could be an array or an array representation of a tensor, as they are homologous.\n",
    "\n",
    "The following D list cannot be an array as it is not homologous.\n",
    "\n",
    "    D = [[ 4 , 2 , 3 ],\n",
    "        [ 5 , 1 ]]\n",
    "\n",
    "Every dimension of a list should be the same length to make it become an array.\n",
    "\n",
    "#### A matrix\n",
    "\n",
    "A matrix is simple, it is a rectangular array. It has columns and rows.\n",
    "\n",
    "Can all arrays be matrices?\n",
    "\n",
    "- No, an array can be far more than just columns and rows.\n",
    "- It could have 4D, 20D, …\n",
    "\n",
    "E could also be a matrix, which automatically means it could also be an array.\n",
    "\n",
    "    E = [[4, 2], [5, 1], [8, 2]]\n",
    "\n",
    "F is a 3D array with 3 levels of brackets.\n",
    "\n",
    "    F = [[[ 1 , 5 , 6 , 2 ], [ 3 , 2 , 1 , 3 ]],\n",
    "        [[ 5 , 2 , 1 , 2 ], [ 6 , 4 , 8 , 4 ]],\n",
    "        [[ 2 , 8 , 5 , 3 ], [ 1 , 1 , 9 , 4 ]]]\n",
    "\n",
    "    shape(F) = (3, 2, 4)\n",
    "\n",
    "#### A tensor\n",
    "\n",
    "What is a tensor, to a computer scientist, in the context of deep learning?\n",
    "- A tensor object is an object that can be represented as an array.\n",
    "- An array is an ordered homologous container for numbers (i.e., NumPy)\n",
    "- A linear array (1D array) is the simplest example of an array, and in plain Python, it would be a list. It is also a vector in math.\n",
    "- 2D array represent a matrix in mathematics.\n",
    "- Each element of the array can be accessed using a tuple of indices as a key.\n",
    "\n",
    "\n",
    "## 2.4. Dot Product and Vector Addition\n",
    "\n",
    "1D array is just a vector (or a list in Python).\n",
    "\n",
    "A dot product of two vectors is a scalar.\n",
    "\n",
    "$$\n",
    "\\vec{a} \\cdot \\vec{b} = \\sum_{i=1}^{n} a_i b_i = a_1 b_1 + a_2 b_2 + \\cdots + a_n b_n\n",
    "$$"
   ]
  },
  {
   "cell_type": "code",
   "execution_count": 5,
   "metadata": {},
   "outputs": [
    {
     "name": "stdout",
     "output_type": "stream",
     "text": [
      "20\n"
     ]
    }
   ],
   "source": [
    "a = [1, 2, 3]\n",
    "b = [2, 3, 4] \n",
    "dot_product = a[0] * b[0] + a[1] * b[1] + a[2] * b[2]\n",
    "print(dot_product)"
   ]
  },
  {
   "cell_type": "markdown",
   "metadata": {},
   "source": [
    "What if we call $a$ “inputs” and $b$ “weights”?\n",
    "\n",
    "Plain Python doesn’t contain methods or functions to perform such an operation, so we need $\\textbf{NumPy}$.\n",
    "\n",
    "Numpy lets us to perform a vector addition operation in a natural way.\n",
    "\n",
    "$$\n",
    "\\vec{a} + \\vec{b} = \\Big[ a_1 + b_1 ,  a_2 + b_2 , \\cdots ,  a_n + b_n\\Big]\n",
    "$$\n",
    "\n",
    "The two vectors should have the same size and result is a vector of the same size.\n",
    "\n",
    "\n",
    "## 2.5. Single Neuron with NumPy\n",
    "\n",
    "Numpy makes the code simpler to read and write, and faster to run:"
   ]
  },
  {
   "cell_type": "code",
   "execution_count": 6,
   "metadata": {},
   "outputs": [
    {
     "name": "stdout",
     "output_type": "stream",
     "text": [
      "4.8\n"
     ]
    }
   ],
   "source": [
    "import numpy as np\n",
    "\n",
    "inputs = [1.0, 2.0, 3.0, 2.5]\n",
    "weights = [0.2, 0.8, -0.5, 1.0]\n",
    "bias = 2.0\n",
    "\n",
    "outputs = np.dot(weights, inputs) + bias\n",
    "\n",
    "print (outputs)"
   ]
  },
  {
   "cell_type": "markdown",
   "metadata": {},
   "source": [
    "## 2.6. A Layer of Neurons with NumPy\n",
    "\n",
    "A layer of 3 neurons is used, the weights will be a matrix or list of weight vectors.\n",
    "\n",
    "We need to perform the dot product of the weight matrix and the input vector\n",
    ".\n",
    "The matrix is considered as a list of vectors, and the dot product is performed one by one with the vector of inputs, returning a list of dot products.\n"
   ]
  },
  {
   "cell_type": "code",
   "execution_count": 7,
   "metadata": {},
   "outputs": [
    {
     "name": "stdout",
     "output_type": "stream",
     "text": [
      "[4.8   1.21  2.385]\n"
     ]
    }
   ],
   "source": [
    "import numpy as np\n",
    "inputs = [ 1.0 , 2.0 , 3.0 , 2.5 ]\n",
    "weights = [[ 0.2 , 0.8 , - 0.5 , 1 ], [0.5 , - 0.91 , 0.26 , - 0.5 ], [- 0.26 , - 0.27 , 0.17 , 0.87 ]]\n",
    "biases = [ 2.0 , 3.0 , 0.5 ]\n",
    "layer_outputs = np.dot(weights, inputs) + biases\t# for the plain Python list addition, NumPy will convert it to an array internally\n",
    "print(layer_outputs)"
   ]
  },
  {
   "cell_type": "markdown",
   "metadata": {},
   "source": [
    "## 2.7. A Batch of Data\n",
    "\n",
    "NNs receive data in batches.\n",
    "\n",
    "A feature set (an observation or a sample) contains of various features.\n",
    "\n",
    "    inputs =[1 ,2 ,3 , 25]\n",
    "\n",
    "NNs expect to take in many samples at a time for 2 reasons.\n",
    "\n",
    "- It’s faster to train in batches in parallel processing\n",
    "\n",
    "- Batches help with generalization during training, training or fitting in batches gives you a higher chance of making more meaningful changes to weights and biases\n",
    "\n",
    "<center><img src='./image/2-4.png' style='width: 60%'/></center>\n",
    "\n",
    "An example of a batch of observations:\n",
    "\n",
    "    inputs = [[1, 2, 3, 2.5], [2, 5, -1, 2], [-1.5, 2.7, 3.3, -0.8]]\n",
    "   \n",
    "Each list in this larger list is a sample representing a feature set.\n",
    "\n",
    "Now, we have matrix of inputs and a matrix of weights. We need to manage both matrices as lists of vectors and perform dot products on all of them in all combinations, resulting in a list of lists of outputs, or a matrix, this operation is the matrix product."
   ]
  },
  {
   "cell_type": "markdown",
   "metadata": {},
   "source": [
    "## 2.8. Matrix Product\n",
    "\n",
    "In a matrix product, the size of the second dimension of the left matrix must match the size of the first dimension of the right matrix.\n",
    "\n",
    "Row and column vectors are matrices with one of their dimensions being of a size of 1.\n",
    "\n",
    "$$\n",
    "a = \\begin{bmatrix}\n",
    "1 & 2 & 3 \n",
    "\\end{bmatrix}\\,\\,\\,\\,\\,\n",
    "b = \\begin{bmatrix}\n",
    "2 \\\\\n",
    "3 \\\\\n",
    "4\n",
    "\\end{bmatrix}\n",
    "$$\n",
    "\n",
    "$$\n",
    "ab = \n",
    "\\begin{bmatrix}\n",
    "1 & 2 & 3 \n",
    "\\end{bmatrix} \n",
    "\\begin{bmatrix}\n",
    "2 \\\\\n",
    "3 \\\\\n",
    "4\n",
    "\\end{bmatrix} \n",
    "= \\big[ 20 \\big]\n",
    "$$"
   ]
  },
  {
   "cell_type": "markdown",
   "metadata": {},
   "source": [
    "## 2.9. Transposition of the Matrix Product\n",
    "\n",
    "A dot product of two vectors equals a matrix product of a row and column vector.\n",
    "\n",
    "$$\n",
    "\\vec{a} \\cdot \\vec{b} = ab^T = \n",
    "\\begin{bmatrix}\n",
    "1 & 2 & 3 \n",
    "\\end{bmatrix} \n",
    "\\begin{bmatrix}\n",
    "2 \\\\\n",
    "3 \\\\\n",
    "4\n",
    "\\end{bmatrix} \n",
    "= \\big[ 20 \\big]\n",
    "$$\n",
    "\n",
    "Transposition modifies a matrix in a way that its rows become columns and columns become rows.\n",
    "\n",
    "<center><img src='./image/2-5.png' style='width: 60%'/></center>\n",
    "\n",
    "<center><img src='./image/2-6.png' style='width: 60%'/></center>\n",
    "\n",
    "A row vector is a matrix with size $(1,n)$. It is a $1 \\times n$ array of array of shape $(1,n)$.\n",
    "\n",
    "$$\n",
    "a= \\begin{bmatrix}\n",
    "a_1 & a_2 & a_3 & \\cdots & a_n \n",
    "\\end{bmatrix}\n",
    "$$"
   ]
  },
  {
   "cell_type": "code",
   "execution_count": 8,
   "metadata": {},
   "outputs": [
    {
     "data": {
      "text/plain": [
       "array([[20]])"
      ]
     },
     "execution_count": 8,
     "metadata": {},
     "output_type": "execute_result"
    }
   ],
   "source": [
    "np.array([[ 1 , 2 , 3 ]])\n",
    "\n",
    "# To transform a list into a matrix containing a single row, put it in to a list and create numpy array\n",
    "a = [1, 2, 3]\n",
    "np.array([a])\n",
    "\n",
    "# Or we can turn it into a 1D array and expand dimensions using one of the NumPy abilities.\n",
    "a = [1, 2, 3]\n",
    "np.expand_dims(np.array(a), axis = 0)    # add a new dimension at the index of the axis\n",
    "\n",
    "a = [ 1 , 2 , 3 ]\n",
    "b = [ 2 , 3 , 4 ]\n",
    "a = np.array([a])\n",
    "b = np.array([b]).T\n",
    "np.dot(a, b)\n"
   ]
  },
  {
   "cell_type": "markdown",
   "metadata": {},
   "source": [
    "We achieved the same result as the dot product of two vectors, but performed on matrices and returning a matrix.\n",
    "\n",
    "NumPy does not have a dedicated method for performing matrix product – the dot product and matrix product are both implemented in a single method: `np.dot()`"
   ]
  },
  {
   "cell_type": "markdown",
   "metadata": {},
   "source": [
    "## 2.10. A Layer of Neurons & Batch of Data w/ NumPy\n",
    "\n",
    "In NNs, we need to perform the matrix product between input and weight matrices.\n",
    "\n",
    "We need to transform the second arguments (weights) to turn the row vectors into column vectors.\n",
    "\n",
    "- When the inputs are a vector, we can perform the dot product on the inputs and the weights without a transposition.\n",
    "- When the inputs aee a batch of inputs (a matrix), need to perform matrix product. It takes all of the combinations of rows from the left matrix and columns from the right matrix, performing dot product of them and placing the results in an output array.\n",
    "- Both arrays have the same shape, but to perform the matrix product, the shape’s value from the index 1 of the first matrix and the index 0 of the second matrix must match.\n",
    "\n",
    "The following don’t match.\n",
    "\n",
    "<center><img src='./image/2-7.png' style='width: 40%'/></center>\n",
    "\n",
    "We should transpose the second array.\n",
    "\n",
    "<center><img src='./image/2-8.png' style='width: 40%'/></center>\n",
    "\n",
    "We can `np.dot()` on a plain Python list of lists as NumPy will convert them to matrices internally.\n",
    "\n",
    "Plain Python list of lists does not support the transposition operation, `.T`, we need NumPy.\n",
    "\n",
    "The addition of biases don’t need to convert them to matrices, as NumPy do it internally.\n",
    "\n",
    "- Each column of the matrix product result is an output of one neuron.\n",
    "- The bias vector is added to each row vector – the bias of each neuron needs to be added to all of the results of this neuron performed on all input vectors (samples).\n",
    "\n",
    "Our NN takes in a group of samples (inputs) and outputs a group of predictions."
   ]
  },
  {
   "cell_type": "code",
   "execution_count": 9,
   "metadata": {},
   "outputs": [
    {
     "name": "stdout",
     "output_type": "stream",
     "text": [
      "[[ 4.8    1.21   2.385]\n",
      " [ 8.9   -1.81   0.2  ]\n",
      " [ 1.41   1.051  0.026]]\n"
     ]
    }
   ],
   "source": [
    "import numpy as np\n",
    "inputs = [[1.0, 2.0, 3.0, 2.5], [2.0, 5.0, -1.0, 2.0], [-1.5, 2.7, 3.3, -0.8]]\n",
    "weights = [[0.2, 0.8, -0.5, 1.0], [0.5, -0.91, 0.26, -0.5], [-0.26, -0.27, 0.17, 0.87]]\n",
    "biases = [2.0, 3.0, 0.5]\n",
    "layer_outputs = np.dot(inputs, np.array(weights).T) + biases\n",
    "print (layer_outputs)"
   ]
  },
  {
   "cell_type": "code",
   "execution_count": null,
   "metadata": {},
   "outputs": [],
   "source": []
  }
 ],
 "metadata": {
  "kernelspec": {
   "display_name": "nnfs",
   "language": "python",
   "name": "nnfs"
  },
  "language_info": {
   "codemirror_mode": {
    "name": "ipython",
    "version": 3
   },
   "file_extension": ".py",
   "mimetype": "text/x-python",
   "name": "python",
   "nbconvert_exporter": "python",
   "pygments_lexer": "ipython3",
   "version": "3.10.13"
  }
 },
 "nbformat": 4,
 "nbformat_minor": 4
}
